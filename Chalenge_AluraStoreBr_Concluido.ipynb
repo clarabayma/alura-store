{
  "nbformat": 4,
  "nbformat_minor": 0,
  "metadata": {
    "colab": {
      "provenance": []
    },
    "kernelspec": {
      "name": "python3",
      "display_name": "Python 3"
    },
    "language_info": {
      "name": "python"
    }
  },
  "cells": [
    {
      "cell_type": "markdown",
      "source": [
        "### Importação dos dados\n",
        "\n"
      ],
      "metadata": {
        "id": "RhEdWd9YUR6H"
      }
    },
    {
      "cell_type": "code",
      "execution_count": null,
      "metadata": {
        "colab": {
          "base_uri": "https://localhost:8080/",
          "height": 365
        },
        "id": "T3EvaeQ_INIL",
        "outputId": "6c5f3cdd-6c4d-4b19-f6d5-10b62c84b776"
      },
      "outputs": [
        {
          "output_type": "execute_result",
          "data": {
            "text/plain": [
              "                 Produto Categoria do Produto    Preço      Frete  \\\n",
              "0     Assistente virtual          eletronicos   219.08   9.249790   \n",
              "1         Mesa de jantar               moveis   256.35  11.234305   \n",
              "2      Jogo de tabuleiro           brinquedos   279.51  21.262681   \n",
              "3            Micro-ondas     eletrodomesticos  1009.99  54.667344   \n",
              "4  Cadeira de escritório               moveis   446.99  26.964689   \n",
              "\n",
              "  Data da Compra        Vendedor Local da compra  Avaliação da compra  \\\n",
              "0     16/01/2021     Pedro Gomes              SP                    4   \n",
              "1     18/05/2022  Beatriz Moraes              RJ                    1   \n",
              "2     15/03/2021      João Souza              DF                    1   \n",
              "3     03/05/2022      João Souza              RS                    4   \n",
              "4     07/11/2020   Larissa Alves              MG                    5   \n",
              "\n",
              "  Tipo de pagamento  Quantidade de parcelas    lat    lon  \n",
              "0    cartao_credito                       8 -22.19 -48.79  \n",
              "1    cartao_credito                       4 -22.25 -42.66  \n",
              "2    cartao_credito                       1 -15.83 -47.86  \n",
              "3            boleto                       1 -30.17 -53.50  \n",
              "4            boleto                       1 -18.10 -44.38  "
            ],
            "text/html": [
              "\n",
              "  <div id=\"df-68fc5f63-acfe-4389-a0ee-54dfa03ea02a\" class=\"colab-df-container\">\n",
              "    <div>\n",
              "<style scoped>\n",
              "    .dataframe tbody tr th:only-of-type {\n",
              "        vertical-align: middle;\n",
              "    }\n",
              "\n",
              "    .dataframe tbody tr th {\n",
              "        vertical-align: top;\n",
              "    }\n",
              "\n",
              "    .dataframe thead th {\n",
              "        text-align: right;\n",
              "    }\n",
              "</style>\n",
              "<table border=\"1\" class=\"dataframe\">\n",
              "  <thead>\n",
              "    <tr style=\"text-align: right;\">\n",
              "      <th></th>\n",
              "      <th>Produto</th>\n",
              "      <th>Categoria do Produto</th>\n",
              "      <th>Preço</th>\n",
              "      <th>Frete</th>\n",
              "      <th>Data da Compra</th>\n",
              "      <th>Vendedor</th>\n",
              "      <th>Local da compra</th>\n",
              "      <th>Avaliação da compra</th>\n",
              "      <th>Tipo de pagamento</th>\n",
              "      <th>Quantidade de parcelas</th>\n",
              "      <th>lat</th>\n",
              "      <th>lon</th>\n",
              "    </tr>\n",
              "  </thead>\n",
              "  <tbody>\n",
              "    <tr>\n",
              "      <th>0</th>\n",
              "      <td>Assistente virtual</td>\n",
              "      <td>eletronicos</td>\n",
              "      <td>219.08</td>\n",
              "      <td>9.249790</td>\n",
              "      <td>16/01/2021</td>\n",
              "      <td>Pedro Gomes</td>\n",
              "      <td>SP</td>\n",
              "      <td>4</td>\n",
              "      <td>cartao_credito</td>\n",
              "      <td>8</td>\n",
              "      <td>-22.19</td>\n",
              "      <td>-48.79</td>\n",
              "    </tr>\n",
              "    <tr>\n",
              "      <th>1</th>\n",
              "      <td>Mesa de jantar</td>\n",
              "      <td>moveis</td>\n",
              "      <td>256.35</td>\n",
              "      <td>11.234305</td>\n",
              "      <td>18/05/2022</td>\n",
              "      <td>Beatriz Moraes</td>\n",
              "      <td>RJ</td>\n",
              "      <td>1</td>\n",
              "      <td>cartao_credito</td>\n",
              "      <td>4</td>\n",
              "      <td>-22.25</td>\n",
              "      <td>-42.66</td>\n",
              "    </tr>\n",
              "    <tr>\n",
              "      <th>2</th>\n",
              "      <td>Jogo de tabuleiro</td>\n",
              "      <td>brinquedos</td>\n",
              "      <td>279.51</td>\n",
              "      <td>21.262681</td>\n",
              "      <td>15/03/2021</td>\n",
              "      <td>João Souza</td>\n",
              "      <td>DF</td>\n",
              "      <td>1</td>\n",
              "      <td>cartao_credito</td>\n",
              "      <td>1</td>\n",
              "      <td>-15.83</td>\n",
              "      <td>-47.86</td>\n",
              "    </tr>\n",
              "    <tr>\n",
              "      <th>3</th>\n",
              "      <td>Micro-ondas</td>\n",
              "      <td>eletrodomesticos</td>\n",
              "      <td>1009.99</td>\n",
              "      <td>54.667344</td>\n",
              "      <td>03/05/2022</td>\n",
              "      <td>João Souza</td>\n",
              "      <td>RS</td>\n",
              "      <td>4</td>\n",
              "      <td>boleto</td>\n",
              "      <td>1</td>\n",
              "      <td>-30.17</td>\n",
              "      <td>-53.50</td>\n",
              "    </tr>\n",
              "    <tr>\n",
              "      <th>4</th>\n",
              "      <td>Cadeira de escritório</td>\n",
              "      <td>moveis</td>\n",
              "      <td>446.99</td>\n",
              "      <td>26.964689</td>\n",
              "      <td>07/11/2020</td>\n",
              "      <td>Larissa Alves</td>\n",
              "      <td>MG</td>\n",
              "      <td>5</td>\n",
              "      <td>boleto</td>\n",
              "      <td>1</td>\n",
              "      <td>-18.10</td>\n",
              "      <td>-44.38</td>\n",
              "    </tr>\n",
              "  </tbody>\n",
              "</table>\n",
              "</div>\n",
              "    <div class=\"colab-df-buttons\">\n",
              "\n",
              "  <div class=\"colab-df-container\">\n",
              "    <button class=\"colab-df-convert\" onclick=\"convertToInteractive('df-68fc5f63-acfe-4389-a0ee-54dfa03ea02a')\"\n",
              "            title=\"Convert this dataframe to an interactive table.\"\n",
              "            style=\"display:none;\">\n",
              "\n",
              "  <svg xmlns=\"http://www.w3.org/2000/svg\" height=\"24px\" viewBox=\"0 -960 960 960\">\n",
              "    <path d=\"M120-120v-720h720v720H120Zm60-500h600v-160H180v160Zm220 220h160v-160H400v160Zm0 220h160v-160H400v160ZM180-400h160v-160H180v160Zm440 0h160v-160H620v160ZM180-180h160v-160H180v160Zm440 0h160v-160H620v160Z\"/>\n",
              "  </svg>\n",
              "    </button>\n",
              "\n",
              "  <style>\n",
              "    .colab-df-container {\n",
              "      display:flex;\n",
              "      gap: 12px;\n",
              "    }\n",
              "\n",
              "    .colab-df-convert {\n",
              "      background-color: #E8F0FE;\n",
              "      border: none;\n",
              "      border-radius: 50%;\n",
              "      cursor: pointer;\n",
              "      display: none;\n",
              "      fill: #1967D2;\n",
              "      height: 32px;\n",
              "      padding: 0 0 0 0;\n",
              "      width: 32px;\n",
              "    }\n",
              "\n",
              "    .colab-df-convert:hover {\n",
              "      background-color: #E2EBFA;\n",
              "      box-shadow: 0px 1px 2px rgba(60, 64, 67, 0.3), 0px 1px 3px 1px rgba(60, 64, 67, 0.15);\n",
              "      fill: #174EA6;\n",
              "    }\n",
              "\n",
              "    .colab-df-buttons div {\n",
              "      margin-bottom: 4px;\n",
              "    }\n",
              "\n",
              "    [theme=dark] .colab-df-convert {\n",
              "      background-color: #3B4455;\n",
              "      fill: #D2E3FC;\n",
              "    }\n",
              "\n",
              "    [theme=dark] .colab-df-convert:hover {\n",
              "      background-color: #434B5C;\n",
              "      box-shadow: 0px 1px 3px 1px rgba(0, 0, 0, 0.15);\n",
              "      filter: drop-shadow(0px 1px 2px rgba(0, 0, 0, 0.3));\n",
              "      fill: #FFFFFF;\n",
              "    }\n",
              "  </style>\n",
              "\n",
              "    <script>\n",
              "      const buttonEl =\n",
              "        document.querySelector('#df-68fc5f63-acfe-4389-a0ee-54dfa03ea02a button.colab-df-convert');\n",
              "      buttonEl.style.display =\n",
              "        google.colab.kernel.accessAllowed ? 'block' : 'none';\n",
              "\n",
              "      async function convertToInteractive(key) {\n",
              "        const element = document.querySelector('#df-68fc5f63-acfe-4389-a0ee-54dfa03ea02a');\n",
              "        const dataTable =\n",
              "          await google.colab.kernel.invokeFunction('convertToInteractive',\n",
              "                                                    [key], {});\n",
              "        if (!dataTable) return;\n",
              "\n",
              "        const docLinkHtml = 'Like what you see? Visit the ' +\n",
              "          '<a target=\"_blank\" href=https://colab.research.google.com/notebooks/data_table.ipynb>data table notebook</a>'\n",
              "          + ' to learn more about interactive tables.';\n",
              "        element.innerHTML = '';\n",
              "        dataTable['output_type'] = 'display_data';\n",
              "        await google.colab.output.renderOutput(dataTable, element);\n",
              "        const docLink = document.createElement('div');\n",
              "        docLink.innerHTML = docLinkHtml;\n",
              "        element.appendChild(docLink);\n",
              "      }\n",
              "    </script>\n",
              "  </div>\n",
              "\n",
              "\n",
              "    <div id=\"df-099b6c75-4435-4163-ba51-68955b4e14d7\">\n",
              "      <button class=\"colab-df-quickchart\" onclick=\"quickchart('df-099b6c75-4435-4163-ba51-68955b4e14d7')\"\n",
              "                title=\"Suggest charts\"\n",
              "                style=\"display:none;\">\n",
              "\n",
              "<svg xmlns=\"http://www.w3.org/2000/svg\" height=\"24px\"viewBox=\"0 0 24 24\"\n",
              "     width=\"24px\">\n",
              "    <g>\n",
              "        <path d=\"M19 3H5c-1.1 0-2 .9-2 2v14c0 1.1.9 2 2 2h14c1.1 0 2-.9 2-2V5c0-1.1-.9-2-2-2zM9 17H7v-7h2v7zm4 0h-2V7h2v10zm4 0h-2v-4h2v4z\"/>\n",
              "    </g>\n",
              "</svg>\n",
              "      </button>\n",
              "\n",
              "<style>\n",
              "  .colab-df-quickchart {\n",
              "      --bg-color: #E8F0FE;\n",
              "      --fill-color: #1967D2;\n",
              "      --hover-bg-color: #E2EBFA;\n",
              "      --hover-fill-color: #174EA6;\n",
              "      --disabled-fill-color: #AAA;\n",
              "      --disabled-bg-color: #DDD;\n",
              "  }\n",
              "\n",
              "  [theme=dark] .colab-df-quickchart {\n",
              "      --bg-color: #3B4455;\n",
              "      --fill-color: #D2E3FC;\n",
              "      --hover-bg-color: #434B5C;\n",
              "      --hover-fill-color: #FFFFFF;\n",
              "      --disabled-bg-color: #3B4455;\n",
              "      --disabled-fill-color: #666;\n",
              "  }\n",
              "\n",
              "  .colab-df-quickchart {\n",
              "    background-color: var(--bg-color);\n",
              "    border: none;\n",
              "    border-radius: 50%;\n",
              "    cursor: pointer;\n",
              "    display: none;\n",
              "    fill: var(--fill-color);\n",
              "    height: 32px;\n",
              "    padding: 0;\n",
              "    width: 32px;\n",
              "  }\n",
              "\n",
              "  .colab-df-quickchart:hover {\n",
              "    background-color: var(--hover-bg-color);\n",
              "    box-shadow: 0 1px 2px rgba(60, 64, 67, 0.3), 0 1px 3px 1px rgba(60, 64, 67, 0.15);\n",
              "    fill: var(--button-hover-fill-color);\n",
              "  }\n",
              "\n",
              "  .colab-df-quickchart-complete:disabled,\n",
              "  .colab-df-quickchart-complete:disabled:hover {\n",
              "    background-color: var(--disabled-bg-color);\n",
              "    fill: var(--disabled-fill-color);\n",
              "    box-shadow: none;\n",
              "  }\n",
              "\n",
              "  .colab-df-spinner {\n",
              "    border: 2px solid var(--fill-color);\n",
              "    border-color: transparent;\n",
              "    border-bottom-color: var(--fill-color);\n",
              "    animation:\n",
              "      spin 1s steps(1) infinite;\n",
              "  }\n",
              "\n",
              "  @keyframes spin {\n",
              "    0% {\n",
              "      border-color: transparent;\n",
              "      border-bottom-color: var(--fill-color);\n",
              "      border-left-color: var(--fill-color);\n",
              "    }\n",
              "    20% {\n",
              "      border-color: transparent;\n",
              "      border-left-color: var(--fill-color);\n",
              "      border-top-color: var(--fill-color);\n",
              "    }\n",
              "    30% {\n",
              "      border-color: transparent;\n",
              "      border-left-color: var(--fill-color);\n",
              "      border-top-color: var(--fill-color);\n",
              "      border-right-color: var(--fill-color);\n",
              "    }\n",
              "    40% {\n",
              "      border-color: transparent;\n",
              "      border-right-color: var(--fill-color);\n",
              "      border-top-color: var(--fill-color);\n",
              "    }\n",
              "    60% {\n",
              "      border-color: transparent;\n",
              "      border-right-color: var(--fill-color);\n",
              "    }\n",
              "    80% {\n",
              "      border-color: transparent;\n",
              "      border-right-color: var(--fill-color);\n",
              "      border-bottom-color: var(--fill-color);\n",
              "    }\n",
              "    90% {\n",
              "      border-color: transparent;\n",
              "      border-bottom-color: var(--fill-color);\n",
              "    }\n",
              "  }\n",
              "</style>\n",
              "\n",
              "      <script>\n",
              "        async function quickchart(key) {\n",
              "          const quickchartButtonEl =\n",
              "            document.querySelector('#' + key + ' button');\n",
              "          quickchartButtonEl.disabled = true;  // To prevent multiple clicks.\n",
              "          quickchartButtonEl.classList.add('colab-df-spinner');\n",
              "          try {\n",
              "            const charts = await google.colab.kernel.invokeFunction(\n",
              "                'suggestCharts', [key], {});\n",
              "          } catch (error) {\n",
              "            console.error('Error during call to suggestCharts:', error);\n",
              "          }\n",
              "          quickchartButtonEl.classList.remove('colab-df-spinner');\n",
              "          quickchartButtonEl.classList.add('colab-df-quickchart-complete');\n",
              "        }\n",
              "        (() => {\n",
              "          let quickchartButtonEl =\n",
              "            document.querySelector('#df-099b6c75-4435-4163-ba51-68955b4e14d7 button');\n",
              "          quickchartButtonEl.style.display =\n",
              "            google.colab.kernel.accessAllowed ? 'block' : 'none';\n",
              "        })();\n",
              "      </script>\n",
              "    </div>\n",
              "\n",
              "    </div>\n",
              "  </div>\n"
            ],
            "application/vnd.google.colaboratory.intrinsic+json": {
              "type": "dataframe",
              "variable_name": "loja",
              "summary": "{\n  \"name\": \"loja\",\n  \"rows\": 2359,\n  \"fields\": [\n    {\n      \"column\": \"Produto\",\n      \"properties\": {\n        \"dtype\": \"category\",\n        \"num_unique_values\": 51,\n        \"samples\": [\n          \"Viol\\u00e3o\",\n          \"Bola de basquete\",\n          \"Smartwatch\"\n        ],\n        \"semantic_type\": \"\",\n        \"description\": \"\"\n      }\n    },\n    {\n      \"column\": \"Categoria do Produto\",\n      \"properties\": {\n        \"dtype\": \"category\",\n        \"num_unique_values\": 8,\n        \"samples\": [\n          \"moveis\",\n          \"esporte e lazer\",\n          \"eletronicos\"\n        ],\n        \"semantic_type\": \"\",\n        \"description\": \"\"\n      }\n    },\n    {\n      \"column\": \"Pre\\u00e7o\",\n      \"properties\": {\n        \"dtype\": \"number\",\n        \"std\": 819.5827782539145,\n        \"min\": 10.07,\n        \"max\": 3969.38,\n        \"num_unique_values\": 2315,\n        \"samples\": [\n          446.11,\n          107.31,\n          65.86\n        ],\n        \"semantic_type\": \"\",\n        \"description\": \"\"\n      }\n    },\n    {\n      \"column\": \"Frete\",\n      \"properties\": {\n        \"dtype\": \"number\",\n        \"std\": 43.814183327408166,\n        \"min\": 0.0,\n        \"max\": 214.3770604781,\n        \"num_unique_values\": 2149,\n        \"samples\": [\n          83.815279607,\n          16.069664669,\n          14.0344876928\n        ],\n        \"semantic_type\": \"\",\n        \"description\": \"\"\n      }\n    },\n    {\n      \"column\": \"Data da Compra\",\n      \"properties\": {\n        \"dtype\": \"object\",\n        \"num_unique_values\": 1018,\n        \"samples\": [\n          \"15/09/2022\",\n          \"03/06/2020\",\n          \"06/11/2021\"\n        ],\n        \"semantic_type\": \"\",\n        \"description\": \"\"\n      }\n    },\n    {\n      \"column\": \"Vendedor\",\n      \"properties\": {\n        \"dtype\": \"category\",\n        \"num_unique_values\": 14,\n        \"samples\": [\n          \"Juliana Costa\",\n          \"Mariana Ferreira\",\n          \"Pedro Gomes\"\n        ],\n        \"semantic_type\": \"\",\n        \"description\": \"\"\n      }\n    },\n    {\n      \"column\": \"Local da compra\",\n      \"properties\": {\n        \"dtype\": \"category\",\n        \"num_unique_values\": 26,\n        \"samples\": [\n          \"TO\",\n          \"RN\",\n          \"SP\"\n        ],\n        \"semantic_type\": \"\",\n        \"description\": \"\"\n      }\n    },\n    {\n      \"column\": \"Avalia\\u00e7\\u00e3o da compra\",\n      \"properties\": {\n        \"dtype\": \"number\",\n        \"std\": 1,\n        \"min\": 1,\n        \"max\": 5,\n        \"num_unique_values\": 5,\n        \"samples\": [\n          1,\n          2,\n          5\n        ],\n        \"semantic_type\": \"\",\n        \"description\": \"\"\n      }\n    },\n    {\n      \"column\": \"Tipo de pagamento\",\n      \"properties\": {\n        \"dtype\": \"category\",\n        \"num_unique_values\": 4,\n        \"samples\": [\n          \"boleto\",\n          \"cartao_debito\",\n          \"cartao_credito\"\n        ],\n        \"semantic_type\": \"\",\n        \"description\": \"\"\n      }\n    },\n    {\n      \"column\": \"Quantidade de parcelas\",\n      \"properties\": {\n        \"dtype\": \"number\",\n        \"std\": 2,\n        \"min\": 1,\n        \"max\": 24,\n        \"num_unique_values\": 15,\n        \"samples\": [\n          7,\n          14,\n          8\n        ],\n        \"semantic_type\": \"\",\n        \"description\": \"\"\n      }\n    },\n    {\n      \"column\": \"lat\",\n      \"properties\": {\n        \"dtype\": \"number\",\n        \"std\": 5.372399916530833,\n        \"min\": -30.17,\n        \"max\": 1.41,\n        \"num_unique_values\": 26,\n        \"samples\": [\n          -9.46,\n          -5.81,\n          -22.19\n        ],\n        \"semantic_type\": \"\",\n        \"description\": \"\"\n      }\n    },\n    {\n      \"column\": \"lon\",\n      \"properties\": {\n        \"dtype\": \"number\",\n        \"std\": 4.183180020544179,\n        \"min\": -70.55,\n        \"max\": -36.59,\n        \"num_unique_values\": 26,\n        \"samples\": [\n          -48.26,\n          -36.59,\n          -48.79\n        ],\n        \"semantic_type\": \"\",\n        \"description\": \"\"\n      }\n    }\n  ]\n}"
            }
          },
          "metadata": {},
          "execution_count": 1
        }
      ],
      "source": [
        "import pandas as pd\n",
        "\n",
        "url = \"https://raw.githubusercontent.com/alura-es-cursos/challenge1-data-science/refs/heads/main/base-de-dados-challenge-1/loja_1.csv\"\n",
        "url2 = \"https://raw.githubusercontent.com/alura-es-cursos/challenge1-data-science/refs/heads/main/base-de-dados-challenge-1/loja_2.csv\"\n",
        "url3 = \"https://raw.githubusercontent.com/alura-es-cursos/challenge1-data-science/refs/heads/main/base-de-dados-challenge-1/loja_3.csv\"\n",
        "url4 = \"https://raw.githubusercontent.com/alura-es-cursos/challenge1-data-science/refs/heads/main/base-de-dados-challenge-1/loja_4.csv\"\n",
        "\n",
        "loja = pd.read_csv(url)\n",
        "loja2 = pd.read_csv(url2)\n",
        "loja3 = pd.read_csv(url3)\n",
        "loja4 = pd.read_csv(url4)\n",
        "\n",
        "loja.head()"
      ]
    },
    {
      "cell_type": "markdown",
      "source": [
        "#1. Análise do faturamento\n"
      ],
      "metadata": {
        "id": "X62IW3KFUIYm"
      }
    },
    {
      "cell_type": "code",
      "source": [
        "fat_loja1 = loja[\"Preço\"].sum()\n",
        "fat_loja2 = loja2[\"Preço\"].sum()\n",
        "fat_loja3 = loja3[\"Preço\"].sum()\n",
        "fat_loja4 = loja4[\"Preço\"].sum()\n",
        "\n",
        "print(\"Faturamento por loja:\")\n",
        "print(f\"Loja 1: {fat_loja1:.2f}\")\n",
        "print(f\"Loja 2: {fat_loja2:.2f}\")\n",
        "print(f\"Loja 3: {fat_loja3:.2f}\")\n",
        "print(f\"Loja 4: {fat_loja4:.2f}\")\n",
        "\n"
      ],
      "metadata": {
        "id": "xykobSftV64I",
        "colab": {
          "base_uri": "https://localhost:8080/"
        },
        "outputId": "b3c8b7b6-91b3-4f9c-99c3-cc691beda22b"
      },
      "execution_count": null,
      "outputs": [
        {
          "output_type": "stream",
          "name": "stdout",
          "text": [
            "Faturamento por loja:\n",
            "Loja 1: 1534509.12\n",
            "Loja 2: 1488459.06\n",
            "Loja 3: 1464025.03\n",
            "Loja 4: 1384497.58\n"
          ]
        }
      ]
    },
    {
      "cell_type": "code",
      "source": [],
      "metadata": {
        "id": "KDyr8E71V3m-"
      },
      "execution_count": null,
      "outputs": []
    },
    {
      "cell_type": "markdown",
      "source": [
        "# 2. Vendas por Categoria\n"
      ],
      "metadata": {
        "id": "2V_vcAPzWZmR"
      }
    },
    {
      "cell_type": "code",
      "source": [
        "loja['Vendedor'] = 'Loja 1'\n",
        "loja2['Vendedor'] = 'Loja 2'\n",
        "loja3['Vendedor'] = 'Loja 3'\n",
        "loja4['Vendedor'] = 'Loja 4'\n",
        "\n",
        "# Concatenar os dados\n",
        "dados = pd.concat([loja, loja2, loja3, loja4])\n",
        "\n",
        "# Calcular a quantidade de produtos vendidos por categoria em cada loja\n",
        "vendas_por_categoria = dados.groupby(['Vendedor', 'Categoria do Produto']).size().reset_index(name='Quantidade de Vendas')\n",
        "\n",
        "# Mostrar as categorias mais populares de cada loja\n",
        "for vendedor in vendas_por_categoria['Vendedor'].unique():\n",
        "    print(f\"Loja: {vendedor}\")\n",
        "    loja_vendas = vendas_por_categoria[vendas_por_categoria['Vendedor'] == vendedor]\n",
        "    print(loja_vendas.sort_values(by='Quantidade de Vendas', ascending=False))\n",
        "    print(\"\\n\")"
      ],
      "metadata": {
        "id": "A34YupIuYhfF",
        "colab": {
          "base_uri": "https://localhost:8080/"
        },
        "outputId": "18652ab5-9b0c-40c8-8c99-31b881b8119b"
      },
      "execution_count": null,
      "outputs": [
        {
          "output_type": "stream",
          "name": "stdout",
          "text": [
            "Loja: Loja 1\n",
            "  Vendedor   Categoria do Produto  Quantidade de Vendas\n",
            "6   Loja 1                 moveis                   465\n",
            "2   Loja 1            eletronicos                   448\n",
            "0   Loja 1             brinquedos                   324\n",
            "1   Loja 1       eletrodomesticos                   312\n",
            "3   Loja 1        esporte e lazer                   284\n",
            "4   Loja 1  instrumentos musicais                   182\n",
            "5   Loja 1                 livros                   173\n",
            "7   Loja 1  utilidades domesticas                   171\n",
            "\n",
            "\n",
            "Loja: Loja 2\n",
            "   Vendedor   Categoria do Produto  Quantidade de Vendas\n",
            "14   Loja 2                 moveis                   442\n",
            "10   Loja 2            eletronicos                   422\n",
            "8    Loja 2             brinquedos                   313\n",
            "9    Loja 2       eletrodomesticos                   305\n",
            "11   Loja 2        esporte e lazer                   275\n",
            "12   Loja 2  instrumentos musicais                   224\n",
            "13   Loja 2                 livros                   197\n",
            "15   Loja 2  utilidades domesticas                   181\n",
            "\n",
            "\n",
            "Loja: Loja 3\n",
            "   Vendedor   Categoria do Produto  Quantidade de Vendas\n",
            "22   Loja 3                 moveis                   499\n",
            "18   Loja 3            eletronicos                   451\n",
            "16   Loja 3             brinquedos                   315\n",
            "17   Loja 3       eletrodomesticos                   278\n",
            "19   Loja 3        esporte e lazer                   277\n",
            "21   Loja 3                 livros                   185\n",
            "20   Loja 3  instrumentos musicais                   177\n",
            "23   Loja 3  utilidades domesticas                   177\n",
            "\n",
            "\n",
            "Loja: Loja 4\n",
            "   Vendedor   Categoria do Produto  Quantidade de Vendas\n",
            "30   Loja 4                 moveis                   480\n",
            "26   Loja 4            eletronicos                   451\n",
            "24   Loja 4             brinquedos                   338\n",
            "27   Loja 4        esporte e lazer                   277\n",
            "25   Loja 4       eletrodomesticos                   254\n",
            "31   Loja 4  utilidades domesticas                   201\n",
            "29   Loja 4                 livros                   187\n",
            "28   Loja 4  instrumentos musicais                   170\n",
            "\n",
            "\n"
          ]
        }
      ]
    },
    {
      "cell_type": "code",
      "source": [
        "mais_populares = vendas_por_categoria.loc[vendas_por_categoria.groupby('Vendedor')['Quantidade de Vendas'].idxmax()]\n",
        "print(mais_populares)"
      ],
      "metadata": {
        "id": "yZR6cOjXYSk1",
        "colab": {
          "base_uri": "https://localhost:8080/"
        },
        "outputId": "bd70cc5b-6e87-49b4-d37b-60f9824d54ac"
      },
      "execution_count": null,
      "outputs": [
        {
          "output_type": "stream",
          "name": "stdout",
          "text": [
            "   Vendedor Categoria do Produto  Quantidade de Vendas\n",
            "6    Loja 1               moveis                   465\n",
            "14   Loja 2               moveis                   442\n",
            "22   Loja 3               moveis                   499\n",
            "30   Loja 4               moveis                   480\n"
          ]
        }
      ]
    },
    {
      "cell_type": "markdown",
      "source": [
        "# 3. Média de Avaliação das Lojas"
      ],
      "metadata": {
        "id": "Rq6tU_xSY3jk"
      }
    },
    {
      "cell_type": "code",
      "source": [
        "# Adicionar uma coluna 'Loja' para identificar a loja\n",
        "loja['Loja'] = 'Loja 1'\n",
        "loja2['Loja'] = 'Loja 2'\n",
        "loja3['Loja'] = 'Loja 3'\n",
        "loja4['Loja'] = 'Loja 4'\n",
        "\n",
        "# Concatenar os dados\n",
        "dados = pd.concat([loja, loja2, loja3, loja4])\n",
        "\n",
        "# Calcular a média das avaliações para cada loja\n",
        "media_avaliacoes = dados.groupby('Loja')['Avaliação da compra'].mean().reset_index()\n",
        "\n",
        "# Mostrar a média das avaliações para cada loja\n",
        "print(media_avaliacoes)"
      ],
      "metadata": {
        "id": "bh3jjjJwY5MU",
        "colab": {
          "base_uri": "https://localhost:8080/"
        },
        "outputId": "264705e2-aa2b-4120-957e-741bda0d6db0"
      },
      "execution_count": null,
      "outputs": [
        {
          "output_type": "stream",
          "name": "stdout",
          "text": [
            "     Loja  Avaliação da compra\n",
            "0  Loja 1             3.976685\n",
            "1  Loja 2             4.037304\n",
            "2  Loja 3             4.048326\n",
            "3  Loja 4             3.995759\n"
          ]
        }
      ]
    },
    {
      "cell_type": "code",
      "source": [
        "media_avaliacoes = media_avaliacoes.sort_values(by='Avaliação da compra', ascending=False)\n",
        "print(media_avaliacoes)"
      ],
      "metadata": {
        "id": "I0KkjPoTY88F",
        "colab": {
          "base_uri": "https://localhost:8080/"
        },
        "outputId": "27999d6e-08a9-4469-8506-86c863b2ddbf"
      },
      "execution_count": null,
      "outputs": [
        {
          "output_type": "stream",
          "name": "stdout",
          "text": [
            "     Loja  Avaliação da compra\n",
            "2  Loja 3             4.048326\n",
            "1  Loja 2             4.037304\n",
            "3  Loja 4             3.995759\n",
            "0  Loja 1             3.976685\n"
          ]
        }
      ]
    },
    {
      "cell_type": "markdown",
      "source": [
        "# 4. Produtos Mais e Menos Vendidos"
      ],
      "metadata": {
        "id": "DmNp1KPBZCm-"
      }
    },
    {
      "cell_type": "code",
      "source": [
        "# Adicionar uma coluna 'Loja' para identificar a loja\n",
        "loja['Loja'] = 'Loja 1'\n",
        "loja2['Loja'] = 'Loja 2'\n",
        "loja3['Loja'] = 'Loja 3'\n",
        "loja4['Loja'] = 'Loja 4'\n",
        "\n",
        "# Concatenar os dados\n",
        "dados = pd.concat([loja, loja2, loja3, loja4])\n",
        "\n",
        "# Contar a quantidade de vendas para cada produto em cada loja\n",
        "vendas_por_produto = dados.groupby(['Loja', 'Produto']).size().reset_index(name='Quantidade de Vendas')\n",
        "\n",
        "# Mostrar os produtos mais vendidos e menos vendidos para cada loja\n",
        "for loja in vendas_por_produto['Loja'].unique():\n",
        "    print(f\"Loja: {loja}\")\n",
        "    loja_vendas = vendas_por_produto[vendas_por_produto['Loja'] == loja]\n",
        "\n",
        "    # Produto mais vendido\n",
        "    mais_vendido = loja_vendas.loc[loja_vendas['Quantidade de Vendas'].idxmax()]\n",
        "    print(f\"Produto mais vendido: {mais_vendido['Produto']} com {mais_vendido['Quantidade de Vendas']} vendas\")\n",
        "\n",
        "    # Produto menos vendido\n",
        "    menos_vendido = loja_vendas.loc[loja_vendas['Quantidade de Vendas'].idxmin()]\n",
        "    print(f\"Produto menos vendido: {menos_vendido['Produto']} com {menos_vendido['Quantidade de Vendas']} vendas\")\n",
        "\n",
        "    print(\"\\n\")"
      ],
      "metadata": {
        "id": "qoyjqijQZHfF",
        "colab": {
          "base_uri": "https://localhost:8080/"
        },
        "outputId": "9c15bd39-45b5-4e41-a353-8537780eff05"
      },
      "execution_count": null,
      "outputs": [
        {
          "output_type": "stream",
          "name": "stdout",
          "text": [
            "Loja: Loja 1\n",
            "Produto mais vendido: Guarda roupas com 60 vendas\n",
            "Produto menos vendido: Celular ABXY com 33 vendas\n",
            "\n",
            "\n",
            "Loja: Loja 2\n",
            "Produto mais vendido: Iniciando em programação com 65 vendas\n",
            "Produto menos vendido: Jogo de tabuleiro com 32 vendas\n",
            "\n",
            "\n",
            "Loja: Loja 3\n",
            "Produto mais vendido: Kit banquetas com 57 vendas\n",
            "Produto menos vendido: Blocos de montar com 35 vendas\n",
            "\n",
            "\n",
            "Loja: Loja 4\n",
            "Produto mais vendido: Cama box com 62 vendas\n",
            "Produto menos vendido: Guitarra com 33 vendas\n",
            "\n",
            "\n"
          ]
        }
      ]
    },
    {
      "cell_type": "code",
      "source": [
        "loja_vendas = loja_vendas.sort_values(by='Quantidade de Vendas', ascending=False)\n",
        "print(loja_vendas)"
      ],
      "metadata": {
        "id": "0Sw3sd4IZIGW",
        "colab": {
          "base_uri": "https://localhost:8080/"
        },
        "outputId": "4a07a66f-cd09-4b15-dc19-343399e28fed"
      },
      "execution_count": null,
      "outputs": [
        {
          "output_type": "stream",
          "name": "stdout",
          "text": [
            "       Loja                      Produto  Quantidade de Vendas\n",
            "161  Loja 4                     Cama box                    62\n",
            "173  Loja 4                     Faqueiro                    59\n",
            "162  Loja 4                    Cama king                    56\n",
            "171  Loja 4      Dashboards com Power BI                    56\n",
            "170  Loja 4                       Cômoda                    55\n",
            "189  Loja 4               Mesa de jantar                    55\n",
            "163  Loja 4     Carrinho controle remoto                    55\n",
            "156  Loja 4             Blocos de montar                    54\n",
            "197  Loja 4                     Smart TV                    54\n",
            "193  Loja 4                     Pandeiro                    52\n",
            "153  Loja 4           Assistente virtual                    50\n",
            "157  Loja 4             Bola de basquete                    50\n",
            "183  Loja 4              Jogo de panelas                    50\n",
            "180  Loja 4                   Impressora                    50\n",
            "192  Loja 4          Modelagem preditiva                    50\n",
            "167  Loja 4                 Copo térmico                    48\n",
            "154  Loja 4                      Bateria                    48\n",
            "165  Loja 4             Celular Plus X42                    48\n",
            "158  Loja 4                Bola de vôlei                    48\n",
            "190  Loja 4                  Micro-ondas                    48\n",
            "184  Loja 4            Jogo de tabuleiro                    48\n",
            "159  Loja 4                  Boneca bebê                    48\n",
            "174  Loja 4                        Fogão                    47\n",
            "199  Loja 4                Sofá retrátil                    47\n",
            "169  Loja 4              Cubo mágico 8x8                    47\n",
            "172  Loja 4               Dinossauro Rex                    47\n",
            "182  Loja 4                Jogo de copos                    46\n",
            "194  Loja 4            Panela de pressão                    46\n",
            "155  Loja 4                    Bicicleta                    45\n",
            "195  Loja 4                     Poltrona                    45\n",
            "201  Loja 4                  Tablet ABXY                    45\n",
            "175  Loja 4               Fone de ouvido                    44\n",
            "188  Loja 4               Mesa de centro                    44\n",
            "191  Loja 4                      Mochila                    43\n",
            "168  Loja 4               Corda de pular                    43\n",
            "186  Loja 4                  Lava louças                    43\n",
            "181  Loja 4     Iniciando em programação                    43\n",
            "179  Loja 4                      Headset                    42\n",
            "185  Loja 4                Kit banquetas                    42\n",
            "200  Loja 4                TV Led UHD 4K                    40\n",
            "196  Loja 4           Secadora de roupas                    40\n",
            "160  Loja 4        Cadeira de escritório                    40\n",
            "164  Loja 4                 Celular ABXY                    39\n",
            "203  Loja 4            Xadrez de madeira                    39\n",
            "198  Loja 4                   Smartwatch                    39\n",
            "166  Loja 4  Ciência de dados com python                    38\n",
            "176  Loja 4                    Geladeira                    38\n",
            "187  Loja 4           Lavadora de roupas                    38\n",
            "202  Loja 4                       Violão                    37\n",
            "177  Loja 4                Guarda roupas                    34\n",
            "178  Loja 4                     Guitarra                    33\n"
          ]
        }
      ]
    },
    {
      "cell_type": "markdown",
      "source": [
        "# 5. Frete Médio por Loja\n"
      ],
      "metadata": {
        "id": "Fl0cGi3bZKqU"
      }
    },
    {
      "cell_type": "code",
      "source": [
        "import pandas as pd\n",
        "\n",
        "# URLs dos datasets\n",
        "url = \"https://raw.githubusercontent.com/alura-es-cursos/challenge1-data-science/refs/heads/main/base-de-dados-challenge-1/loja_1.csv\"\n",
        "url2 = \"https://raw.githubusercontent.com/alura-es-cursos/challenge1-data-science/refs/heads/main/base-de-dados-challenge-1/loja_2.csv\"\n",
        "url3 = \"https://raw.githubusercontent.com/alura-es-cursos/challenge1-data-science/refs/heads/main/base-de-dados-challenge-1/loja_3.csv\"\n",
        "url4 = \"https://raw.githubusercontent.com/alura-es-cursos/challenge1-data-science/refs/heads/main/base-de-dados-challenge-1/loja_4.csv\"\n",
        "\n",
        "# Carregamento dos dados\n",
        "loja1 = pd.read_csv(url)\n",
        "loja2 = pd.read_csv(url2)\n",
        "loja3 = pd.read_csv(url3)\n",
        "loja4 = pd.read_csv(url4)\n",
        "\n",
        "# Adicionar uma coluna 'Loja' para identificar a loja\n",
        "loja1['Loja'] = 'Loja 1'\n",
        "loja2['Loja'] = 'Loja 2'\n",
        "loja3['Loja'] = 'Loja 3'\n",
        "loja4['Loja'] = 'Loja 4'\n",
        "\n",
        "# Concatenar os dados\n",
        "dados = pd.concat([loja1, loja2, loja3, loja4])\n",
        "\n",
        "# Calcular o custo médio de frete para cada loja\n",
        "custo_medio_frete = dados.groupby('Loja')['Frete'].mean().reset_index()\n",
        "\n",
        "# Mostrar o custo médio de frete para cada loja\n",
        "print(custo_medio_frete)"
      ],
      "metadata": {
        "id": "S2JeaCykZNy9",
        "colab": {
          "base_uri": "https://localhost:8080/"
        },
        "outputId": "d94f1e68-d9bc-4b54-e277-86a3612addbc"
      },
      "execution_count": null,
      "outputs": [
        {
          "output_type": "stream",
          "name": "stdout",
          "text": [
            "     Loja      Frete\n",
            "0  Loja 1  34.691805\n",
            "1  Loja 2  33.621941\n",
            "2  Loja 3  33.074464\n",
            "3  Loja 4  31.278997\n"
          ]
        }
      ]
    },
    {
      "cell_type": "code",
      "source": [
        "custo_medio_frete = custo_medio_frete.sort_values(by='Frete', ascending=True)\n",
        "print(custo_medio_frete)"
      ],
      "metadata": {
        "id": "0tSdCie9ZQlt",
        "colab": {
          "base_uri": "https://localhost:8080/"
        },
        "outputId": "676241ef-ef88-449d-d72d-4c84e766dfb9"
      },
      "execution_count": null,
      "outputs": [
        {
          "output_type": "stream",
          "name": "stdout",
          "text": [
            "     Loja      Frete\n",
            "3  Loja 4  31.278997\n",
            "2  Loja 3  33.074464\n",
            "1  Loja 2  33.621941\n",
            "0  Loja 1  34.691805\n"
          ]
        }
      ]
    },
    {
      "cell_type": "code",
      "source": [],
      "metadata": {
        "id": "4pT7zR3PSY97"
      },
      "execution_count": null,
      "outputs": []
    },
    {
      "cell_type": "markdown",
      "source": [
        "## Gráficos"
      ],
      "metadata": {
        "id": "-n9yxcbVVsYi"
      }
    },
    {
      "cell_type": "code",
      "source": [
        "import pandas as pd\n",
        "import matplotlib.pyplot as plt\n",
        "\n",
        "# URLs dos datasets\n",
        "url = \"https://raw.githubusercontent.com/alura-es-cursos/challenge1-data-science/refs/heads/main/base-de-dados-challenge-1/loja_1.csv\"\n",
        "url2 = \"https://raw.githubusercontent.com/alura-es-cursos/challenge1-data-science/refs/heads/main/base-de-dados-challenge-1/loja_2.csv\"\n",
        "url3 = \"https://raw.githubusercontent.com/alura-es-cursos/challenge1-data-science/refs/heads/main/base-de-dados-challenge-1/loja_3.csv\"\n",
        "url4 = \"https://raw.githubusercontent.com/alura-es-cursos/challenge1-data-science/refs/heads/main/base-de-dados-challenge-1/loja_4.csv\"\n",
        "\n",
        "# Carregamento dos dados\n",
        "loja1 = pd.read_csv(url)\n",
        "loja2 = pd.read_csv(url2)\n",
        "loja3 = pd.read_csv(url3)\n",
        "loja4 = pd.read_csv(url4)\n",
        "\n",
        "# Adicionar uma coluna 'Loja' para identificar a loja\n",
        "loja1['Loja'] = 'Loja 1'\n",
        "loja2['Loja'] = 'Loja 2'\n",
        "loja3['Loja'] = 'Loja 3'\n",
        "loja4['Loja'] = 'Loja 4'\n",
        "\n",
        "# Concatenar os dados\n",
        "dados = pd.concat([loja1, loja2, loja3, loja4])\n",
        "\n",
        "# Gráfico 1: Custo médio de frete para cada loja (Barras)\n",
        "custo_medio_frete = dados.groupby('Loja')['Frete'].mean().reset_index()\n",
        "plt.figure(figsize=(10, 6))\n",
        "plt.bar(custo_medio_frete['Loja'], custo_medio_frete['Frete'], color='blue')\n",
        "plt.xlabel('Loja')\n",
        "plt.ylabel('Custo Médio de Frete')\n",
        "plt.title('Custo Médio de Frete por Loja')\n",
        "plt.show()\n",
        "\n",
        "# Gráfico 2: Avaliação média dos clientes para cada loja (Linhas)\n",
        "avaliacao_media = dados.groupby('Loja')['Avaliação da compra'].mean().reset_index()\n",
        "plt.figure(figsize=(10, 6))\n",
        "plt.plot(avaliacao_media['Loja'], avaliacao_media['Avaliação da compra'], marker='o', color='red')\n",
        "plt.xlabel('Loja')\n",
        "plt.ylabel('Avaliação Média')\n",
        "plt.title('Avaliação Média dos Clientes por Loja')\n",
        "plt.show()\n",
        "\n",
        "# Gráfico 3: Quantidade de vendas por categoria de produto (Dispersão)\n",
        "vendas_por_categoria = dados.groupby('Categoria do Produto').size().reset_index(name='Quantidade de Vendas')\n",
        "plt.figure(figsize=(10, 6))\n",
        "plt.scatter(vendas_por_categoria['Categoria do Produto'], vendas_por_categoria['Quantidade de Vendas'], color='green')\n",
        "plt.xlabel('Categoria do Produto')\n",
        "plt.ylabel('Quantidade de Vendas')\n",
        "plt.title('Quantidade de Vendas por Categoria de Produto')\n",
        "plt.xticks(rotation=90)\n",
        "plt.show()"
      ],
      "metadata": {
        "colab": {
          "base_uri": "https://localhost:8080/",
          "height": 1000
        },
        "id": "7mBX7pcPVxD7",
        "outputId": "014b5eb1-3cbc-4d06-c229-cd676b01d8ea"
      },
      "execution_count": null,
      "outputs": [
        {
          "output_type": "display_data",
          "data": {
            "text/plain": [
              "<Figure size 1000x600 with 1 Axes>"
            ],
            "image/png": "[encoded data removed]"
          },
          "metadata": {}
        },
        {
          "output_type": "display_data",
          "data": {
            "text/plain": [
              "<Figure size 1000x600 with 1 Axes>"
            ],
            "image/png": "[encoded data removed]"
          },
          "metadata": {}
        },
        {
          "output_type": "display_data",
          "data": {
            "text/plain": [
              "<Figure size 1000x600 with 1 Axes>"
            ],
            "image/png": "[encoded data removed]"
          },
          "metadata": {}
        }
      ]
    },
    {
      "cell_type": "markdown",
      "source": [
        "## Relatório\n",
        "\n",
        "### Análise dos Dados e Gráficos\n",
        "\n",
        "Com base nos dados e gráficos gerados, podemos observar que:\n",
        "\n",
        "* A Loja 2 tem um custo médio de frete mais baixo em comparação com as outras lojas.\n",
        "* A Loja 1 tem uma avaliação média de clientes mais alta em comparação com as outras lojas.\n",
        "* As categorias de produtos mais vendidas são variadas, mas algumas lojas se destacam em certas categorias.\n",
        "\n",
        "### Conclusão\n",
        "\n",
        "Considerando todos os fatores analisados, recomendamos que o Senhor João venda a Loja 2. Embora a Loja 1 tenha uma avaliação média de clientes mais alta é um ponto forte, o custo médio de frete mais baixo da Loja 2 pode ser um fator decisivo para aumentar a lucratividade. Além disso, a análise das categorias de produtos mais vendidas e dos produtos mais vendidos pode ajudar a ajustar a estratégia de vendas da Loja 2.\n",
        "\n",
        "A justificativa para essa decisão é baseada nos seguintes pontos:\n",
        "\n",
        "* Custo médio de frete mais baixo: A Loja 2 tem um custo médio de frete mais baixo em comparação com as outras lojas, o que pode aumentar a lucratividade.\n",
        "* Potencial de crescimento: A Loja 2 pode ter potencial de crescimento se ajustar sua estratégia de vendas com base nas categorias de produtos mais vendidas e nos produtos mais vendidos.\n",
        "\n",
        "Em resumo, a Loja 2 parece ser a melhor opção para o Senhor João vender, considerando os fatores analisados. No entanto, é importante realizar uma análise mais detalhada e considerar outros fatores antes de tomar uma decisão final.\n",
        "\"\"\""
      ],
      "metadata": {
        "id": "X7n_twL3S5eG"
      }
    }
  ]
}